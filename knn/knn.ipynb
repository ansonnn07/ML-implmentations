{
 "cells": [
  {
   "cell_type": "markdown",
   "metadata": {},
   "source": [
    "# Setup"
   ]
  },
  {
   "cell_type": "code",
   "execution_count": 1,
   "metadata": {},
   "outputs": [],
   "source": [
    "from collections import Counter\n",
    "\n",
    "import numpy as np\n",
    "import time"
   ]
  },
  {
   "cell_type": "code",
   "execution_count": 2,
   "metadata": {},
   "outputs": [],
   "source": [
    "def euclidean_distance(x, y):\n",
    "    # vectorized version of computing all euclidean distances at once\n",
    "    # https://www.pythonlikeyoumeanit.com/Module3_IntroducingNumpy/Broadcasting.html\n",
    "    # https://stackoverflow.com/questions/27948363/numpy-broadcast-to-perform-euclidean-distance-vectorized\n",
    "    squared_dists = np.sum(x**2, axis=1)[:, np.newaxis] \\\n",
    "        + np.sum(y**2, axis=1) \\\n",
    "        - 2 * np.dot(x, y.T)\n",
    "    # clip very low negative values to 0 due to floating precisions\n",
    "    return np.sqrt(np.clip(squared_dists, a_min=0, a_max=None))"
   ]
  },
  {
   "cell_type": "code",
   "execution_count": 3,
   "metadata": {},
   "outputs": [],
   "source": [
    "class KNN:\n",
    "    def __init__(self, k=3):\n",
    "        self.k = k\n",
    "\n",
    "    def fit(self, X, y):\n",
    "        self.X_train = X\n",
    "        self.y_train = y\n",
    "\n",
    "    def predict(self, X):\n",
    "        # Compute distances between x and all examples in the training set\n",
    "        distances = euclidean_distance(X, self.X_train)\n",
    "        # print(f\"{distances.shape = }\")\n",
    "        # Sort by distance and return indices of the first k neighbors\n",
    "        k_idxs = np.argsort(distances, axis=-1)[:, :self.k]\n",
    "        # print(f\"{k_idxs.shape = }\")\n",
    "        # Extract the labels of the k nearest neighbor training samples\n",
    "        k_neighbor_labels = self.y_train[k_idxs]\n",
    "        # print(f\"{k_neighbor_labels.shape = }\")\n",
    "        # print(f\"{k_neighbor_labels[0] = }\")\n",
    "        # # return the most common class label\n",
    "        most_commons = [Counter(x).most_common(1)[0][0]\n",
    "                        for x in k_neighbor_labels]\n",
    "        # most_commons = np.array(most_commons)\n",
    "        # print(f\"{most_commons.shape = }\")\n",
    "        return np.array(most_commons)"
   ]
  },
  {
   "cell_type": "code",
   "execution_count": 4,
   "metadata": {},
   "outputs": [
    {
     "name": "stdout",
     "output_type": "stream",
     "text": [
      "X_train.shape = (120, 4)\n",
      "y_train.shape = (120,)\n",
      "X_test.shape = (30, 4)\n"
     ]
    }
   ],
   "source": [
    "# Imports\n",
    "from matplotlib.colors import ListedColormap\n",
    "from sklearn import datasets\n",
    "from sklearn.model_selection import train_test_split\n",
    "\n",
    "cmap = ListedColormap([\"#FF0000\", \"#00FF00\", \"#0000FF\"])\n",
    "\n",
    "def accuracy(y_true, y_pred):\n",
    "    accuracy = np.sum(y_true == y_pred) / len(y_true) * 100\n",
    "    return accuracy\n",
    "\n",
    "iris = datasets.load_iris()\n",
    "X, y = iris.data, iris.target\n",
    "\n",
    "X_train, X_test, y_train, y_test = train_test_split(\n",
    "    X, y, test_size=0.2, random_state=42\n",
    ")\n",
    "print(f\"{X_train.shape = }\")\n",
    "print(f\"{y_train.shape = }\")\n",
    "print(f\"{X_test.shape = }\")"
   ]
  },
  {
   "cell_type": "code",
   "execution_count": 34,
   "metadata": {},
   "outputs": [
    {
     "name": "stdout",
     "output_type": "stream",
     "text": [
      "x.shape = (120, 4), y.shape = (30, 4)\n",
      "arr.shape = (120,)\n",
      "arr.shape = (120, 1)\n",
      "arr2.shape = (30,)\n",
      "arr3.shape = (120, 30)\n",
      "(arr + arr2).shape = (120, 30)\n",
      "(arr + arr2 - arr3).shape = (120, 30)\n"
     ]
    }
   ],
   "source": [
    "x = X_train\n",
    "y = X_test\n",
    "print(f'{x.shape = }, {y.shape = }')\n",
    "arr = np.sum(x**2, axis=1)\n",
    "print(f'{arr.shape = }')\n",
    "arr = arr[:, np.newaxis]\n",
    "print(f'{arr.shape = }')\n",
    "arr2 = np.sum(y**2, axis=1)\n",
    "print(f'{arr2.shape = }')\n",
    "arr3 = 2 * np.dot(x, y.T)\n",
    "print(f'{arr3.shape = }')\n",
    "print(f'{(arr + arr2).shape = }')\n",
    "print(f'{(arr + arr2 - arr3).shape = }')"
   ]
  },
  {
   "cell_type": "code",
   "execution_count": 28,
   "metadata": {},
   "outputs": [
    {
     "data": {
      "text/plain": [
       "(120, 30)"
      ]
     },
     "execution_count": 28,
     "metadata": {},
     "output_type": "execute_result"
    }
   ],
   "source": [
    "# %%timeit\n",
    "# 57.5 µs\n",
    "out = euclidean_distance(x, y)\n",
    "out.shape"
   ]
  },
  {
   "cell_type": "code",
   "execution_count": 31,
   "metadata": {},
   "outputs": [
    {
     "data": {
      "text/plain": [
       "((120, 4), (30, 4))"
      ]
     },
     "execution_count": 31,
     "metadata": {},
     "output_type": "execute_result"
    }
   ],
   "source": [
    "x.shape, y.shape"
   ]
  },
  {
   "cell_type": "code",
   "execution_count": 35,
   "metadata": {},
   "outputs": [
    {
     "data": {
      "text/plain": [
       "(120, 30)"
      ]
     },
     "execution_count": 35,
     "metadata": {},
     "output_type": "execute_result"
    }
   ],
   "source": [
    "# %%timeit\n",
    "# 78.8 µs \n",
    "out = np.sqrt((np.square(x[:,np.newaxis] - y).sum(axis=-1)))\n",
    "out.shape"
   ]
  },
  {
   "cell_type": "code",
   "execution_count": 7,
   "metadata": {},
   "outputs": [
    {
     "data": {
      "text/plain": [
       "(120, 120)"
      ]
     },
     "execution_count": 7,
     "metadata": {},
     "output_type": "execute_result"
    }
   ],
   "source": [
    "distances = euclidean_distance(X_train, X_train)\n",
    "distances.shape"
   ]
  },
  {
   "cell_type": "code",
   "execution_count": 5,
   "metadata": {},
   "outputs": [],
   "source": [
    "k = 3\n",
    "clf = KNN(k=k)\n",
    "clf.fit(X_train, y_train)"
   ]
  },
  {
   "cell_type": "code",
   "execution_count": 6,
   "metadata": {},
   "outputs": [
    {
     "name": "stdout",
     "output_type": "stream",
     "text": [
      "Time elapsed for inference: 0.0076 seconds\n",
      "KNN classification accuracy: 100.0%\n"
     ]
    }
   ],
   "source": [
    "start_time = time.perf_counter()\n",
    "predictions = clf.predict(X_test)\n",
    "total_inf_time = time.perf_counter() - start_time\n",
    "print(f\"Time elapsed for inference: {total_inf_time:.4f} seconds\")\n",
    "print(f\"KNN classification accuracy: {accuracy(y_test, predictions):.1f}%\")"
   ]
  }
 ],
 "metadata": {
  "kernelspec": {
   "display_name": "analytics",
   "language": "python",
   "name": "python3"
  },
  "language_info": {
   "codemirror_mode": {
    "name": "ipython",
    "version": 3
   },
   "file_extension": ".py",
   "mimetype": "text/x-python",
   "name": "python",
   "nbconvert_exporter": "python",
   "pygments_lexer": "ipython3",
   "version": "3.8.15"
  },
  "orig_nbformat": 4,
  "vscode": {
   "interpreter": {
    "hash": "dfbe1bd932e3733fa90c7fe9a77b777147323639f22206b6b78a2dc3d8532d13"
   }
  }
 },
 "nbformat": 4,
 "nbformat_minor": 2
}
